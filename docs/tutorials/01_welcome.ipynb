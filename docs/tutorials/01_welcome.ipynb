{
  "cells": [
    {
      "cell_type": "markdown",
      "metadata": {
        "id": "mW_oe-sIM3ed"
      },
      "source": [
        "# Welcome to QuantumSymmetry\n",
        "\n",
        "These tutorials are meant as a companion to the journal article ['Symmetry-adapted encodings for qubit number reduction by point-group and other Boolean symmetries'](https://doi.org/10.1088/2058-9565/acd86c).  The theory of symmetry-adapted encodings is explained in a more formal way in the article. If you wish to cite this notebook, you are very welcome to do so, but please reference the original articles instead:\n",
        "\n",
        "> *Picozzi, D. and Tennyson, J. (2023). Symmetry-adapted encodings for qubit number reduction by point-group and other Boolean symmetries. Quantum Science and Technology, 8(3). DOI:https://doi.org/10.1088/2058-9565/acd86c*\n",
        "\n",
        "> *Picozzi, D. and Tennyson, J. (manuscript). Qubit-based symmetry-adapted complete active space for quantum chemistry on a quantum computer*"
      ]
    },
    {
      "cell_type": "markdown",
      "metadata": {
        "id": "LfO-QYU1jCyU"
      },
      "source": [
        "<a name=\"start\"></a>\n",
        "## Let's get started\n",
        "\n",
        "In this Python notebook we are going to explore how molecular point-group symmetries and other symmetries can be used in quantum computing to lower the number of qubits needed to represent a molecular system, using the `quantumsymmetry` Python package (whose source code can be found [on GitHub](https://github.com/dariopicozzi/quantumsymmetry)).\n",
        "\n",
        "`quantumsymmetry` is an open-source Python package which allows the user to constructs a qubit representation of the second-quantized molecular Hamiltonian, and then uses the point-group and parity of number of electron symmetries to encode this representation on a smaller number of qubits in a **symmetry_adapted encoding**. `quantumsymmetry` uses [**PySCF**](https://pyscf.org) (an open-source electronic structure module written in Python) to perform Hartree-Fock calculations, and it is compatible with both quantum computing toolsets [**OpenFermion**](https://quantumai.google/openfermion) and [**Qiskit**](https://www.ibm.com/quantum/qiskit).\n",
        "\n",
        "The very first thing we need to do is first to install `quantumsymmetry`, and then to import it. In order to do this, simply run the cell below.  (this might take just a few minutes)"
      ]
    },
    {
      "cell_type": "code",
      "execution_count": null,
      "metadata": {
        "id": "58PraP3uNpIR"
      },
      "outputs": [],
      "source": [
        "%%capture\n",
        "!pip -q install quantumsymmetry\n",
        "import quantumsymmetry"
      ]
    },
    {
      "cell_type": "markdown",
      "metadata": {
        "id": "73gH7z04R-Ib"
      },
      "source": [
        "Now that we have (hopefully!) correctly installed and imported `quantumsymmetry`, we are set to reduce the qubit count for our first molecule using its point-group symmetries. But first of all... what do our qubits tell us about the quantum mechanical state of the electrons in the molecule? And what are the point-group symmetries and their character tables? (if you are already familiar with these concepts, you are welcome to skip to the next sections of the notebook):"
      ]
    },
    {
      "cell_type": "markdown",
      "metadata": {},
      "source": [
        "1. <a href=\"01_welcome.ipynb\" />Welcome to QuantumSymmetry</a>\n",
        "2. <a href=\"02_theory.ipynb\" />Theory</a>\n",
        "3. <a href=\"03_molecular_hamiltonians.ipynb\" />Building symmetry-adapted molecular Hamiltonians in QuantumSymmetry</a>\n",
        "4. <a href=\"04_fermionic_operators.ipynb\" />Encoding fermionic operators</a>\n",
        "5. <a href=\"05_VQE_circuits.ipynb\" />Running a variational algorithm with a symmetry-adapted encoding</a>"
      ]
    },
    {
      "cell_type": "markdown",
      "metadata": {},
      "source": [
        "<p style=\"text-align: right\"> <a href=\"02_theory.ipynb\" />Next: Theory ></a> </p>"
      ]
    }
  ],
  "metadata": {
    "colab": {
      "provenance": []
    },
    "kernelspec": {
      "display_name": "Python 3",
      "name": "python3"
    },
    "language_info": {
      "name": "python"
    }
  },
  "nbformat": 4,
  "nbformat_minor": 0
}
