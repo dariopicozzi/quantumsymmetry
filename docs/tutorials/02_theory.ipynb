{
  "cells": [
    {
      "cell_type": "markdown",
      "metadata": {},
      "source": [
        "[<img src=\"../quantumsymmetry_logo.png\" alt=\"QuantumSymmetry\" width=\"450\"/>](https://github.com/dariopicozzi/quantumsymmetry)"
      ]
    },
    {
      "cell_type": "markdown",
      "metadata": {},
      "source": [
        "# Theory"
      ]
    },
    {
      "cell_type": "markdown",
      "metadata": {
        "id": "wbxcXIWjY-xD"
      },
      "source": [
        "## Molecular orbitals\n",
        "\n",
        "Let's have a look at the simplest example: the hydrogen molecule H₂ in the minimal (STO-3G) basis.\n",
        "\n",
        "This basis correspond to just two **orbitals** for the hydrogen molecule: the bonding orbital $σ_g$ (also known as $1a_{g}$, shown in the animation to the right), and the antibonding orbital $σ_u$ (also known as $1b_{1u}$, shown to the left).\n",
        "\n",
        "![1B1u](http://dariopicozzi.com/wp-content/uploads/2022/03/movie_H2_1B1u-1.gif \"1B1u\")\n",
        "![1Ag](http://dariopicozzi.com/wp-content/uploads/2022/03/movie_H2_1Ag-1.gif \"1Ag\")\n",
        "\n",
        "In the diagrams, level surfaces for the orbitals (which are functions of the spatial Cartesian coordinates x, y and z) are shown, with red colouring corresponding to positive values, and blue corresponding to negative values (although it could be the other way round: an overall phase does not make a difference).\n",
        "\n",
        "The molecular orbitals $σ_g$ and $σ_u$  are constructed from the two 1s atomic orbitals (AOs) $1s_A$ and $1s_B$ (one for each hydrogen atom) as symmetry-adapted linear combinations of atomic orbitals (SALC). In the H₂ example, up to overall normalization constants:\n",
        "\n",
        "$$\n",
        "\\sigma_g = 1s_A + 1s_B\\\\\n",
        "\\sigma_u = 1s_A - 1s_B\n",
        "$$\n",
        "\n",
        "In our nonrelativistic treatment of spin, each orbital corresponds in turn to **two spin-orbitals**, one with spin up (denoted as either ↑ or by the Greek letter α) and one with spin down (↓ or β). Overall for H₂ in the STO-3G basis we have a total of four spin-orbitals: $\\sigma_{g↑}$, $\\sigma_{g↓}$, $\\sigma_{u↑}$ and $\\sigma_{u↓}$.\n",
        "\n",
        "In the standard way to map molecular orbitals to qubits, the **Jordan-Wigner fermion-to-spin mapping**, each qubit will correspond to a spin orbital. If a spin orbital is occupied by an electron then the corresponding qubit is going to be in state |1⟩, and if it is unoccupied the corresponding qubit is going to be in state |0⟩.\n",
        "\n",
        "In the convention used in `quantumsymmetry` the Jordan-Wigner representation maps the zeroth qubit (rightmost qubit) to the $\\sigma_{g↑}$ spin-orbital, the first qubit (second qubit to the right) to the $\\sigma_{g↓}$ spin-oribtal, and so on.\n",
        "\n",
        "> **Example:** the state |0011⟩ in the Jordan-Wigner mapping under the convention used in `quantumsymmetry` corresponds to the state where both spin-orbitals $\\sigma_{g↑}$ and $\\sigma_{g↓}$ are occupied, while the spin-orbitals $\\sigma_{u↑}$ and $\\sigma_{u↓}$ are left unoccupied (that is, both the electrons of H₂ are in the orbital $\\sigma_{g}$).\n",
        "\n",
        "Mathematically, a state such as |0011⟩ corresponds to the antisymmetrised product of molecular orbital functions, which in quantum mechanics is known as a **Slater determinant** (after American physicist John C. Slater), a function of $3N$ spatial coordinates, where $N$ is the total number of electrons. The antisymmetrisation requirement comes from the Fermi-Dirac statistic, which implies that swapping the positions of any two electrons will result in the wavefunction acquiring a phase of -1.\n",
        "\n",
        "> **Example *(continued)*:** the state |0011⟩ corresponds to the Slater determinant wavefunction:\n",
        ">$$\n",
        "\\psi(\\textbf{x}_1, \\textbf{x}_2) = \\sigma_{g↑}(\\textbf{x}_1)\\sigma_{g↓}(\\textbf{x}_2) - \\sigma_{g↑}(\\textbf{x}_2)\\sigma_{g↓}(\\textbf{x}_1)\n",
        "$$\n",
        ">(we can see that $\\psi(\\textbf{x}_2, \\textbf{x}_1) = -\\psi(\\textbf{x}_1, \\textbf{x}_2)$)\n",
        "\n",
        "The minimal basis gives the smallest set of orbitals we can possibly get for that molecule without making further approximations, such as the frozen core approximation. Larger basis will result in a larger number of orbitals, and hence a larger number of qubits. For example, while the minimal (STO-3G) basis for H₂ only requires four qubits in the Jordan-Wigner mapping, the DZ basis requires twice as many (eight qubits)."
      ]
    },
    {
      "cell_type": "markdown",
      "metadata": {
        "id": "3NhDslbj9r7k"
      },
      "source": [
        "## Boolean symmetries\n",
        "\n",
        "Let's set up our Cartesian coordinates so that the bond between the two hydrogen atoms lies along the z-axis, and the origin is right in the middle of it. We see that after we make the hydrogen molecule go half a turn along the x-axis the two hydrogen atoms have swapped places, but the molecule still looks exactly the same as before. In this sense the rotation $C_{2}(x)$ (the rotation by 180 degrees along the x-axis) is a **symmetry** of the hydrogen atom. There are other symmetries (for instance, the reflection $σ(xy)$ across the xy-plane). Together, these symmetries form a **group**, where multiplying elements together means performing one symmetry operation after the other. The groups of geometrical symmetries of molecules are known as **point groups**.\n",
        "\n",
        "The point groups we are interested in are of a special kind, **Boolean point groups**, for which every symmetry when applied twice is the same as the identity: for instance, a rotation by 180 degrees along the same axis applied twice is the same as a rotation by 360 degrees, or doing nothing at all.\n",
        "\n",
        "All Boolean point groups are isomorphic (the same) as one of four well-known groups: the trivial group, the cyclic group of order 2 $ℤ_2$, the Klein four-group $ℤ_2^2$, or the group $ℤ_2^3$.\n",
        "\n",
        "There's also two further Boolean symmetries that we are going to be interested in beyond the point-group ones. The operators for the number of electrons with spin up ($\\hat{N}_\\uparrow$) and down ($\\hat{N}_\\downarrow$) are also symmetries of the Hamiltonian. Then so are the parity operators $\\hat{P}_\\uparrow$ and $\\hat{P}_\\downarrow$:\n",
        "$$\n",
        "\\begin{align}\n",
        "\\hat{P}_\\uparrow &= (-1)^{\\hat{N}_\\uparrow} & \\hat{P}_\\downarrow &= (-1)^{\\hat{N}_\\downarrow}\n",
        "\\end{align}\n",
        "$$\n",
        "\n",
        "If we multiply them together, they generate the total electron number parity operator $\\hat{P} = \\hat{P}_\\uparrow \\hat{P}_\\downarrow = (-1)^{\\hat{N}}$, forming a group that is also isomorphic to the Klein four-group $ℤ_2^2$.\n",
        "\n",
        "Together, the Boolean point group symmetries and the parity operators form a larger Boolean group, the **full Boolean group** for the molecule, isomorphic to $ℤ_2^k$, where $k = 2, 3, 4, 5$ is the number of the **generators** of the group (the generators of a group are a set of its elements such that every other element can be written as a product of generators)."
      ]
    },
    {
      "cell_type": "markdown",
      "metadata": {
        "id": "GQPaSeP8evGR"
      },
      "source": [
        "## Representation theory in thirty seconds\n",
        "\n",
        "While the molecule itself does not change when an element of the point group acts on it, its orbitals might. For a Boolean point group the molecular orbitals can be defined so that there are only two possibilities: either an orbital is symmetric with respect to a point group element (it stays the same) or it is antisymmetric (it gets a minus sign).\n",
        "\n",
        "We say that each orbital is in an (irreducible) representation of the point group, and knowing which representation it is in tells us (for a Boolean group) whether the orbital is symmetric or antisymmetric with respect to each point group symmetry.\n",
        "\n",
        "This information can be found in a character table. In fact, theoretical chemists are familiar with character tables of finite groups. For example, the character table for the point group $C_{2v}$, the point group of the water molecule (a Boolean group), is:\n",
        "\n",
        "<table>\n",
        "  <tr>\n",
        "    <th></th>\n",
        "    <th>E</th>\n",
        "    <th>C₂(z)</th>\n",
        "    <th>σᵥ(xz)</th>\n",
        "    <th>σᵥ(yz)</th>\n",
        "\n",
        "  </tr>\n",
        "  <tr>\n",
        "    <th>A1</th>\n",
        "    <td>1</td>\n",
        "    <td>1</td>\n",
        "    <td>1</td>\n",
        "    <td>1</td>\n",
        "  </tr>\n",
        "  <tr>\n",
        "    <th>A2</th>\n",
        "    <td>1</td>\n",
        "    <td>1</td>\n",
        "    <td>-1</td>\n",
        "    <td>-1</td>\n",
        "  </tr>\n",
        "    <tr>\n",
        "    <th>B1</th>\n",
        "    <td>1</td>\n",
        "    <td>-1</td>\n",
        "    <td>1</td>\n",
        "    <td>-1</td>\n",
        "  </tr>  <tr>\n",
        "    <th>B2</th>\n",
        "    <td>1</td>\n",
        "    <td>-1</td>\n",
        "    <td>-1</td>\n",
        "    <td>1</td>\n",
        "  </tr>\n",
        "  </table>\n",
        "\n",
        "> **Example:** an orbital that is in the B1 representation is symmetric with respect to the reflection across the xz-plane σᵥ(xz) (+1 in the corresponding entry in the character table), but it is antisymmetric with respect to the rotation by 180-degrees along the z-axis C₂(z)\t(-1 in the corresponding entry in the character table).\n"
      ]
    },
    {
      "cell_type": "markdown",
      "metadata": {
        "id": "2IktBl5vTI7T"
      },
      "source": [
        "## The molecular Hamiltonian\n",
        "\n",
        "In second quantization, the **nonrelativistic molecular Hamiltonian** $\\hat{H}$ (the Hermitian operator that corresponds to the total energy of the molecule) is written down as:\n",
        "\n",
        "$$\n",
        "\\hat{H} = \\sum_{pq} h_{pq} \\hat{a}^{\\dagger}_p \\hat{a}_q + \\frac{1}{2} \\sum_{pqrs} h_{pqrs} \\hat{a}^{\\dagger}_p \\hat{a}^{\\dagger}_q \\hat{a}_r \\hat{a}_s + h_{\\text{nuc}}\n",
        "$$\n",
        "\n",
        "Where the coefficients $h_{pq}$ and $h_{pqrs}$ are known as the **one-electron integrals** and the **two-electron integrals** respectively, and depend on the molecular orbitals; $h_{\\text{nuc}}$ is an overall constant due to the electric repulsion between the positively charged nuclei of the molecule; and $\\hat{a}^{\\dagger}_j$ and $\\hat{a}_j$ are (respectively) the **creation operator** and **annihilation operator** acting on the $j$-th spin orbital.\n",
        "\n",
        "The creation operator $\\hat{a}^{\\dagger}_j$ creates an electron in the j-th spin-orbital when acting on a state where that spin-orbital is unoccupied (and multiplies it by either +1 or -1 depending on the **fermionic sign rule**, that is depending on whether the number of occupied orbitals up to the (j-1)th is even or odd); it multiplies it by 0 if there is already an electron in the j-th spin-orbital.\n",
        "\n",
        "> **Example:**\n",
        ">\n",
        "> $\\hat{a}^{\\dagger}_3|\\underbrace{0}_\\text{empty}\\underbrace{011}_\\text{ even 1s}⟩ = |1011⟩$\n",
        ">\n",
        ">$\\hat{a}^{\\dagger}_3|\\underbrace{0}_\\text{empty}\\underbrace{010}_\\text{ odd 1s}⟩ = -|1010⟩$\n",
        ">\n",
        ">$\\hat{a}^{\\dagger}_3|\\underbrace{1}_\\text{filled}011⟩ = 0$\n",
        "\n",
        "Similarly, the annihilation operator $\\hat{a}_j$ destroys an electron in the j-th spin-orbital if it is present and multiplies the state by the fermionic sign, and otherwise acts as multiplication by 0.\n",
        "\n",
        "We have already seen how the Jordan-Wigner mapping maps spin-orbitals to qubits. In order to write down the qubit representation of the molecular Hamiltonian in Jordan-Wigner basis it is enough to know what happens to $\\hat{a}^{\\dagger}_j$ and $\\hat{a}_j$.\n",
        "\n",
        "Remember that the Pauli $Z$, $X$ and $Y$ operators act on the computational basis as:\n",
        "\n",
        "$$\n",
        "\\begin{align}\n",
        "Z|0⟩ &= |0⟩, & Z|1⟩ &= -|1⟩\\\\\n",
        "X|0⟩ &= |1⟩, & X|1⟩ &= |0⟩\\\\\n",
        "Y|0⟩ &= i|1⟩, & Y|1⟩ &= -i|0⟩\n",
        "\\end{align}\n",
        "$$\n",
        "\n",
        "Then we have:\n",
        "\n",
        "$$\n",
        "\\hat{a}^{\\dagger}_j → \\frac{X_j - iY_j}{2} Z_{j-1} \\dots Z_0\\\\\n",
        "\\hat{a}_j → \\frac{X_j + iY_j}{2} Z_{j-1} \\dots Z_0\n",
        "$$\n",
        "\n",
        "Where the Pauli $Z$ operators are there to enforce the fermionic sign rule.\n",
        "\n",
        "This allows us to write down all of the terms of the qubit representation of the Hamiltonian in the Jordan-Wigner basis. For example, for the number operator $\\hat{N}_j$ (whose eigenvalue is +1 for states that have an electron in the j-th spin orbital, and 0 for states that don't) we have $\\hat{N}_j = \\hat{a}^{\\dagger}_j \\hat{a}_j → \\frac{1 - Z_j}{2}$."
      ]
    },
    {
      "cell_type": "markdown",
      "metadata": {
        "id": "_tVeUQMRj-yK"
      },
      "source": [
        "## Boolean symmetries in the Jordan-Wigner representation\n",
        "\n",
        "Boolean point-group symmetries have a particularly nice form in the Jordan-Wigner basis, as long as the qubits represent symmetry-adapted molecular spin-orbitals.\n",
        "\n",
        "There is a straightforward rule to construct them: we just need to look up the column corresponding to that point group element in the character table for that symmetry group. A symmetry will act as a Pauli $Z$ on the j-th qubit if the corresponding spin-orbital is in a representation that is antisymmetric with respect to that symmetry (corresponding to a value of -1 in the character table), and it will act as the identity if it is in a representation that is symmetric with respect to that symmetry (a value of +1 in the character table).\n",
        "\n",
        "> **Example:** on the character table for the point group $D_{2h}$ the rotation by 180 degrees along the y-axis $C₂(y)$ is symmetric with respect to $A_g$ orbitals (+1), but antisymmetric with respect to $B1u$ orbitals (-1). If in our simulation for $H_2$ in the minimal basis the third, second, first and zeroth qubit correspond respectively to the $1b_{1u \\downarrow}$, $1b_{1u \\uparrow}$, $1a_{g \\downarrow}$ and $1a_{g \\uparrow}$ orbitals, the qubit operator corresponding to the rotation $C₂(y)$ will then be simply $Z_{3}Z_{2}$!\n",
        "\n",
        "Number parity symmetries also have a similar form as Pauli $Z$ operators: in the Jordan-Wigner basis, the operator $\\hat{P}_\\uparrow$ corresponds to Pauli $Z$ operators on half of the qubits, the ones that correspond to the spin-orbitals with spin up, and $\\hat{P}_\\downarrow$ will correspond to $Z$ operators on the other half (the qubits corresponding to the spin-orbitals with spin down).\n",
        "\n",
        "> **Example *(continued)*:** in the same qubit assignment as in the example before, $\\hat{P}_\\uparrow$ corresponds to $Z_{2}Z_{0}$, and $\\hat{P}_\\uparrow$, corresponds to $Z_{3}Z_{1}$."
      ]
    },
    {
      "cell_type": "markdown",
      "metadata": {
        "id": "UwnLYqQk8YN0"
      },
      "source": [
        "## How Boolean symmetries allow us to reduce the number of qubits\n",
        "\n",
        "Knowing what the Boolean point group symmetries look like in the Jordan-Wigner qubit basis (and, what's more, without the need to perform any expensive computation to find them, but just by looking at the character table for the corresponding point group) can be used to reduce the number of qubits in the Hamiltonian, by restricting it to a common eigensector of the symmetries.\n",
        "\n",
        "Each Boolean symmetry has eigenvalues +1 and -1 (corresponding respectively to symmetric and antisymmetric states for the point group symmetries, and to even and odd number states for the parity symmetries).\n",
        "\n",
        "If we know what kind of states we are interested in, and to which eigenvalue of the symmetry operators those state correspond to, we can use our knowledge of the symmetry operators to restrict the Hamiltonian to act only on that sector, reducing the number of qubits needed to simulate it by doing so.\n",
        "\n",
        "For instance, this would usually be the case when using a variation quantum algorithm such as the Variational Quantum Eigensolver to look for the **ground state** of the Hamiltonian, the state which corresponds to the configuration of the molecule of lowest possible energy.\n",
        "\n",
        "The way we are able to do this is by first performing a change of basis that maps the generators of the full Boolean group multiplied by their eigenvalues to Pauli $Z$ operators acting on just one qubit (a different qubit for each generator). The qubits on which the symmetries act after the change of basis are called the **target qubits**. For example, if we are looking for a state that is in the -1 eigenstate of the $\\hat{P}_\\uparrow$ parity operator (that is we are interested in a state known to have an odd number of electrons with spin up), we will want to map $-Z_{2}Z_{0}$ to a one qubit Pauli $Z$ operator such as $Z_{0}$. Then qubit 0 will be one of the target qubits.\n",
        "\n",
        "The change of basis performs a permutation on the computational basis states. For instance, it might swap the state |0000⟩ and the state |0011⟩: after the change of basis has been performed, not all qubits on their own correspond anymore to the occupancy of a spin-orbital.\n",
        "\n",
        "However, the good news is that in this new basis the states that are in the eigensector we have selected all have all their target qubits in state $|0⟩$; what's more, all of the Pauli terms in the Hamiltonian after the change of basis only have either a $Z$ or an identity on the target qubits. These two things together mean that on the states in the right eigensector, each Pauli term in the Hamiltonian acts just as the identity (after all, $Z|0⟩ = |0⟩$), and those qubits can be removed.\n",
        "\n",
        "By doing this, we are able to have our cake and eat it: we are reducing the computational cost of the simulation, and at the same time we are able to select a given subspace of the states.\n",
        "\n",
        "This might be especially useful when using variational algorithms such as the **Variation Quantum Eigensolver** to explore the Hilbert space of states in cases (such as in the $H_3^+$ example below) where the ground state of the molecule is *not* the lowest eigenvalue of the second-quantized Hamiltonian."
      ]
    },
    {
      "cell_type": "markdown",
      "metadata": {},
      "source": [
        "<p style=\"text-align: left\"> <a href=\"01_welcome.ipynb\" />< Previous: Welcome to QuantumSymmetry</a> </p>\n",
        "<p style=\"text-align: right\"> <a href=\"03_molecular_hamiltonians.ipynb\" />Next: Molecular Hamiltonians ></a> </p>"
      ]
    }
  ],
  "metadata": {
    "colab": {
      "provenance": []
    },
    "kernelspec": {
      "display_name": "Python 3",
      "name": "python3"
    },
    "language_info": {
      "name": "python"
    }
  },
  "nbformat": 4,
  "nbformat_minor": 0
}
