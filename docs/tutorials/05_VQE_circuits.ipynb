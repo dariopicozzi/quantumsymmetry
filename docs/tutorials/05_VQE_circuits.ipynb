{
  "cells": [
    {
      "cell_type": "markdown",
      "metadata": {},
      "source": [
        "> **Note:** if you are running this notebook on Google Colab, the next cell will install quantumsymmetry and its dependencies:"
      ]
    },
    {
      "cell_type": "code",
      "execution_count": null,
      "metadata": {},
      "outputs": [],
      "source": [
        "if 'google.colab' in str(get_ipython()):\n",
        "    %%capture\n",
        "    !pip -q install quantumsymmetry\n",
        "    import quantumsymmetry"
      ]
    },
    {
      "cell_type": "markdown",
      "metadata": {},
      "source": [
        "# Running a variational algorithm with a symmetry-adapted encoding"
      ]
    },
    {
      "cell_type": "markdown",
      "metadata": {
        "id": "QVl-I8dpCExv"
      },
      "source": [
        "## The unitary coupled clusters with singles and doubles (UCCSD) circuit with a symmetry-adapted encoding\n",
        "\n",
        "We can then use `quantumsymmetry` to construct a circuit for the most common variational ansatz at the time of writing, unitary coupled clusters with singles and doubles (UCCSD).\n",
        "\n",
        "An example code for the $H_3^+$ dimer in a STO-3G basis is given below."
      ]
    },
    {
      "cell_type": "code",
      "execution_count": null,
      "metadata": {
        "id": "WRBaILmjG6O8"
      },
      "outputs": [],
      "source": [
        "from quantumsymmetry import Encoding\n",
        "from qiskit_algorithms.optimizers import SLSQP\n",
        "from qiskit.primitives import Estimator\n",
        "from qiskit_algorithms import VQE\n",
        "from qiskit_nature.units import DistanceUnit\n",
        "from qiskit_nature.second_q.drivers import PySCFDriver\n",
        "from qiskit_nature.second_q.mappers import JordanWignerMapper\n",
        "from qiskit_nature.second_q.circuit.library import UCCSD, HartreeFock\n",
        "from qiskit_nature.second_q.algorithms import GroundStateEigensolver"
      ]
    },
    {
      "cell_type": "code",
      "execution_count": null,
      "metadata": {
        "id": "b2QwxA1jG8hQ"
      },
      "outputs": [],
      "source": [
        "#Parameters for H3+ in the sto-3g basis\n",
        "atom = 'H 0 0.377 0; H -0.435 -0.377 0; H 0.435 -0.377 0'\n",
        "charge = 1\n",
        "spin = 0\n",
        "basis = 'sto3g'"
      ]
    },
    {
      "cell_type": "markdown",
      "metadata": {
        "id": "P3e__YcykPQg"
      },
      "source": [
        "We first simulate a VQE run under a UCCSD ansatz with the Jordan-Wigner encoding:"
      ]
    },
    {
      "cell_type": "code",
      "execution_count": null,
      "metadata": {
        "colab": {
          "base_uri": "https://localhost:8080/"
        },
        "id": "s4OUIq2vCmqf",
        "outputId": "b3aa846f-90f8-4f6d-93ce-9c536d63803b"
      },
      "outputs": [
        {
          "name": "stderr",
          "output_type": "stream",
          "text": [
            "<ipython-input-8-412c3237c664>:25: DeprecationWarning: The class ``qiskit.primitives.estimator.Estimator`` is deprecated as of qiskit 1.2. It will be removed no earlier than 3 months after the release date. All implementations of the `BaseEstimatorV1` interface have been deprecated in favor of their V2 counterparts. The V2 alternative for the `Estimator` class is `StatevectorEstimator`.\n",
            "  estimator = Estimator(),\n"
          ]
        }
      ],
      "source": [
        "driver = PySCFDriver(\n",
        "    atom= atom,\n",
        "    unit=DistanceUnit.ANGSTROM,\n",
        "    charge=charge,\n",
        "    spin=spin,\n",
        "    basis=basis)\n",
        "\n",
        "problem = driver.run()\n",
        "\n",
        "mapper = JordanWignerMapper()\n",
        "initial_state = HartreeFock(\n",
        "    num_spatial_orbitals = problem.num_spatial_orbitals,\n",
        "    num_particles = problem.num_particles,\n",
        "    qubit_mapper = mapper\n",
        "    )\n",
        "\n",
        "ansatz = UCCSD(\n",
        "    num_spatial_orbitals = problem.num_spatial_orbitals,\n",
        "    num_particles = problem.num_particles,\n",
        "    qubit_mapper = mapper,\n",
        "    initial_state = initial_state\n",
        "    )\n",
        "\n",
        "vqe = VQE(\n",
        "    estimator = Estimator(),\n",
        "    ansatz = ansatz,\n",
        "    optimizer = SLSQP()\n",
        ")\n",
        "\n",
        "solver = GroundStateEigensolver(mapper, vqe)\n",
        "vqe_result = solver.solve(problem)\n",
        "\n",
        "energy1 = vqe_result.total_energies[0]\n",
        "qubits1 = ansatz.num_qubits\n",
        "depth1 = ansatz.decompose().decompose().decompose().decompose().depth()\n"
      ]
    },
    {
      "cell_type": "code",
      "execution_count": null,
      "metadata": {
        "colab": {
          "base_uri": "https://localhost:8080/"
        },
        "id": "fcldhAk9D7RV",
        "outputId": "97041da2-539a-4a47-a3f8-16c3a7792fc2"
      },
      "outputs": [
        {
          "name": "stdout",
          "output_type": "stream",
          "text": [
            "The VQE converged to an energy of -1.2613444947085288 Ha.\n",
            "The circuit depth for the UCCSD ansatz circuit is 414 gates on 6 qubits.\n"
          ]
        }
      ],
      "source": [
        "print(f'The VQE converged to an energy of {energy1} Ha.\\nThe circuit depth for the UCCSD ansatz circuit is {depth1} gates on {qubits1} qubits.')"
      ]
    },
    {
      "cell_type": "markdown",
      "metadata": {
        "id": "Mjp1tC8ZpWeQ"
      },
      "source": [
        "We then repeat the same VQE UCCSD simulation using a symmetry-adapted encoding and using the `.mapper` property of the `Encoding` object to obtain a Qiskit `QubitMapper` object, and the `.HF_circuit` property to obtain a `QuantumCircuit` to prepare the Hartree-Fock state:"
      ]
    },
    {
      "cell_type": "code",
      "execution_count": null,
      "metadata": {
        "colab": {
          "base_uri": "https://localhost:8080/"
        },
        "id": "CXZV-j3vHQ6j",
        "outputId": "f728efd6-2e1a-45b1-f086-546ea24b63a1"
      },
      "outputs": [
        {
          "name": "stderr",
          "output_type": "stream",
          "text": [
            "<ipython-input-11-a85034e8f9a2>:13: DeprecationWarning: The class ``qiskit.primitives.estimator.Estimator`` is deprecated as of qiskit 1.2. It will be removed no earlier than 3 months after the release date. All implementations of the `BaseEstimatorV1` interface have been deprecated in favor of their V2 counterparts. The V2 alternative for the `Estimator` class is `StatevectorEstimator`.\n",
            "  estimator = Estimator(),\n"
          ]
        }
      ],
      "source": [
        "encoding = Encoding(atom = atom, basis = basis, charge = charge, spin = spin, output_format = 'qiskit')\n",
        "mapper = encoding.qiskit_mapper\n",
        "initial_state = encoding.HF_circuit\n",
        "\n",
        "ansatz = UCCSD(\n",
        "    num_spatial_orbitals = problem.num_spatial_orbitals,\n",
        "    num_particles = problem.num_particles,\n",
        "    qubit_mapper = mapper,\n",
        "    initial_state = initial_state\n",
        "    )\n",
        "\n",
        "vqe = VQE(\n",
        "    estimator = Estimator(),\n",
        "    ansatz = ansatz,\n",
        "    optimizer = SLSQP()\n",
        ")\n",
        "\n",
        "solver = GroundStateEigensolver(mapper, vqe)\n",
        "vqe_result = solver.solve(problem)\n",
        "\n",
        "energy2 = vqe_result.total_energies[0]\n",
        "qubits2 = ansatz.num_qubits\n",
        "depth2 = ansatz.decompose().decompose().decompose().decompose().depth()"
      ]
    },
    {
      "cell_type": "code",
      "execution_count": null,
      "metadata": {
        "colab": {
          "base_uri": "https://localhost:8080/"
        },
        "id": "yUEXbZjapPps",
        "outputId": "d83dae49-23db-4f28-fac6-619d8d4813d5"
      },
      "outputs": [
        {
          "name": "stdout",
          "output_type": "stream",
          "text": [
            "The VQE converged to an energy of -1.2613447641572006 Ha.\n",
            "The circuit depth for the UCCSD ansatz circuit is 80 gates on 3 qubits.\n"
          ]
        }
      ],
      "source": [
        "print(f'The VQE converged to an energy of {energy2} Ha.\\nThe circuit depth for the UCCSD ansatz circuit is {depth2} gates on {qubits2} qubits.')"
      ]
    },
    {
      "cell_type": "markdown",
      "metadata": {
        "id": "0LryN5C5rAOq"
      },
      "source": [
        "We see that both VQE runs converge to the same energy (up to a small difference in the order of magnitude of $10^{-7}$ Ha). However, by using the symmetry-adapted encoding the number of qubits is reduced from 6 to 3 qubits, and the UCCSD circuit depth is reduced from 414 gates to 80 gates."
      ]
    },
    {
      "cell_type": "markdown",
      "metadata": {},
      "source": [
        "<p style=\"text-align: left\"> <a href=\"04_fermionic_operators.ipynb\" />< Previous: Encoding fermionic operators</a> </p>"
      ]
    }
  ],
  "metadata": {
    "colab": {
      "provenance": []
    },
    "kernelspec": {
      "display_name": "Python 3",
      "name": "python3"
    },
    "language_info": {
      "name": "python"
    }
  },
  "nbformat": 4,
  "nbformat_minor": 0
}
